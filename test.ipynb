{
 "cells": [
  {
   "cell_type": "code",
   "execution_count": null,
   "metadata": {},
   "outputs": [],
   "source": [
    "!pip install pandas"
   ]
  },
  {
   "cell_type": "code",
   "execution_count": 4,
   "metadata": {
    "ExecuteTime": {
     "end_time": "2020-04-17T02:53:16.618062Z",
     "start_time": "2020-04-17T02:53:16.453506Z"
    }
   },
   "outputs": [
    {
     "data": {
      "application/vnd.jupyter.widget-view+json": {
       "model_id": "d0fa6d07fd784916bfa35159e8f875dd",
       "version_major": 2,
       "version_minor": 0
      },
      "text/plain": [
       "interactive(children=(Dropdown(description='name', options=('Victor Farneze', 'Luis', 'Pedro Garcias', 'Pedro …"
      ]
     },
     "metadata": {},
     "output_type": "display_data"
    }
   ],
   "source": [
    "import pandas as pd\n",
    "from ipywidgets import interact\n",
    "\n",
    "df = pd.read_csv('final_results.csv')\n",
    "\n",
    "from IPython.display import display\n",
    "@interact(name = df.name)\n",
    "def report(name):\n",
    "    \n",
    "    data = df.query(f'name == \"{name}\"')\n",
    "    display(data)"
   ]
  }
 ],
 "metadata": {
  "kernelspec": {
   "display_name": "Python 3",
   "language": "python",
   "name": "python3"
  },
  "language_info": {
   "codemirror_mode": {
    "name": "ipython",
    "version": 3
   },
   "file_extension": ".py",
   "mimetype": "text/x-python",
   "name": "python",
   "nbconvert_exporter": "python",
   "pygments_lexer": "ipython3",
   "version": "3.7.3"
  },
  "toc": {
   "base_numbering": 1,
   "nav_menu": {},
   "number_sections": true,
   "sideBar": true,
   "skip_h1_title": false,
   "title_cell": "Table of Contents",
   "title_sidebar": "Contents",
   "toc_cell": false,
   "toc_position": {},
   "toc_section_display": true,
   "toc_window_display": false
  },
  "widgets": {
   "application/vnd.jupyter.widget-state+json": {
    "state": {
     "0cd853912093471e9d9b9d00b671b245": {
      "model_module": "@jupyter-widgets/base",
      "model_module_version": "1.2.0",
      "model_name": "LayoutModel",
      "state": {}
     },
     "0e1d4d41d38c45d3aa93921a61246269": {
      "model_module": "@jupyter-widgets/controls",
      "model_module_version": "1.5.0",
      "model_name": "VBoxModel",
      "state": {
       "_dom_classes": [
        "widget-interact"
       ],
       "children": [
        "IPY_MODEL_d31828770a024106850a0892d3b2ef29",
        "IPY_MODEL_8a4066b8026d4639b829ce9ecfb320e6"
       ],
       "layout": "IPY_MODEL_3d52e6d514f0442e80b2077e83faecae"
      }
     },
     "3d52e6d514f0442e80b2077e83faecae": {
      "model_module": "@jupyter-widgets/base",
      "model_module_version": "1.2.0",
      "model_name": "LayoutModel",
      "state": {}
     },
     "6144da0f945b4acead610f275b879ae2": {
      "model_module": "@jupyter-widgets/base",
      "model_module_version": "1.2.0",
      "model_name": "LayoutModel",
      "state": {}
     },
     "8a4066b8026d4639b829ce9ecfb320e6": {
      "model_module": "@jupyter-widgets/output",
      "model_module_version": "1.0.0",
      "model_name": "OutputModel",
      "state": {
       "layout": "IPY_MODEL_6144da0f945b4acead610f275b879ae2",
       "outputs": [
        {
         "data": {
          "text/html": "<div>\n<style scoped>\n    .dataframe tbody tr th:only-of-type {\n        vertical-align: middle;\n    }\n\n    .dataframe tbody tr th {\n        vertical-align: top;\n    }\n\n    .dataframe thead th {\n        text-align: right;\n    }\n</style>\n<table border=\"1\" class=\"dataframe\">\n  <thead>\n    <tr style=\"text-align: right;\">\n      <th></th>\n      <th>Movie</th>\n      <th>Brandon</th>\n      <th>Emily</th>\n      <th>Cleo</th>\n      <th>Rusty</th>\n      <th>Samantha</th>\n    </tr>\n  </thead>\n  <tbody>\n    <tr>\n      <td>0</td>\n      <td>Aquaman</td>\n      <td>4</td>\n      <td>1</td>\n      <td>2</td>\n      <td>2</td>\n      <td>2</td>\n    </tr>\n  </tbody>\n</table>\n</div>",
          "text/plain": "     Movie  Brandon  Emily  Cleo  Rusty  Samantha\n0  Aquaman        4      1     2      2         2"
         },
         "metadata": {},
         "output_type": "display_data"
        }
       ]
      }
     },
     "8adcf8dccffe4683923dad4455ec2019": {
      "model_module": "@jupyter-widgets/controls",
      "model_module_version": "1.5.0",
      "model_name": "DescriptionStyleModel",
      "state": {
       "description_width": ""
      }
     },
     "d31828770a024106850a0892d3b2ef29": {
      "model_module": "@jupyter-widgets/controls",
      "model_module_version": "1.5.0",
      "model_name": "DropdownModel",
      "state": {
       "_options_labels": [
        "Aquaman",
        "Avengers: Infinity War",
        "Black Panther",
        "Bohemian Rhapsody",
        "Deadpool 2",
        "Fantastic Beasts: The Crimes of Grindelwald",
        "Incredibles 2",
        "Jurassic World: Fallen Kingdom",
        "Mission: Impossible – Fallout",
        "Venom"
       ],
       "description": "movies",
       "index": 0,
       "layout": "IPY_MODEL_0cd853912093471e9d9b9d00b671b245",
       "style": "IPY_MODEL_8adcf8dccffe4683923dad4455ec2019"
      }
     }
    },
    "version_major": 2,
    "version_minor": 0
   }
  }
 },
 "nbformat": 4,
 "nbformat_minor": 2
}
